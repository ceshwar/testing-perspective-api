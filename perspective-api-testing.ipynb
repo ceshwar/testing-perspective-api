{
 "cells": [
  {
   "cell_type": "code",
   "execution_count": 5,
   "metadata": {},
   "outputs": [],
   "source": [
    "import pandas as pd\n",
    "\n",
    "sample_comments = pd.read_csv('sample-comments.csv', names = ['comments'], sep='\\t')"
   ]
  },
  {
   "cell_type": "code",
   "execution_count": 6,
   "metadata": {},
   "outputs": [
    {
     "data": {
      "text/html": [
       "<div>\n",
       "<style scoped>\n",
       "    .dataframe tbody tr th:only-of-type {\n",
       "        vertical-align: middle;\n",
       "    }\n",
       "\n",
       "    .dataframe tbody tr th {\n",
       "        vertical-align: top;\n",
       "    }\n",
       "\n",
       "    .dataframe thead th {\n",
       "        text-align: right;\n",
       "    }\n",
       "</style>\n",
       "<table border=\"1\" class=\"dataframe\">\n",
       "  <thead>\n",
       "    <tr style=\"text-align: right;\">\n",
       "      <th></th>\n",
       "      <th>comments</th>\n",
       "    </tr>\n",
       "  </thead>\n",
       "  <tbody>\n",
       "    <tr>\n",
       "      <th>0</th>\n",
       "      <td>Hello world! What is up?</td>\n",
       "    </tr>\n",
       "    <tr>\n",
       "      <th>1</th>\n",
       "      <td>LOL, this is crazy. Are you stupid tho?</td>\n",
       "    </tr>\n",
       "    <tr>\n",
       "      <th>2</th>\n",
       "      <td>This is disgusting!</td>\n",
       "    </tr>\n",
       "  </tbody>\n",
       "</table>\n",
       "</div>"
      ],
      "text/plain": [
       "                                  comments\n",
       "0                 Hello world! What is up?\n",
       "1  LOL, this is crazy. Are you stupid tho?\n",
       "2                     This is disgusting! "
      ]
     },
     "execution_count": 6,
     "metadata": {},
     "output_type": "execute_result"
    }
   ],
   "source": [
    "sample_comments"
   ]
  },
  {
   "cell_type": "code",
   "execution_count": 22,
   "metadata": {},
   "outputs": [
    {
     "name": "stdout",
     "output_type": "stream",
     "text": [
      "0 : Hello world! What is up?\n",
      "P(Toxicity) = 0.024962198\n",
      "1 : LOL, this is crazy. Are you stupid tho?\n",
      "P(Toxicity) = 0.9039304\n",
      "2 : This is disgusting! \n",
      "P(Toxicity) = 0.53198034\n"
     ]
    }
   ],
   "source": [
    "from googleapiclient import discovery\n",
    "import pandas as pd\n",
    "\n",
    "sample_comments = pd.read_csv('sample-comments.csv', names = ['comments'], sep='\\t')\n",
    "API_KEY = pd.read_csv('api-key.txt', names = ['key'])['key'][0]\n",
    "\n",
    "# Generates API client object dynamically based on service name and version.\n",
    "service = discovery.build('commentanalyzer', 'v1alpha1', developerKey=API_KEY)\n",
    "\n",
    "count = 0\n",
    "toxicity_scores = []\n",
    "\n",
    "for comment in sample_comments['comments']:\n",
    "    print(str(count) + \" : \" + comment)\n",
    "    count += 1\n",
    "\n",
    "    analyze_request = {\n",
    "      'comment': { 'text': comment},\n",
    "    #  'comment': { 'text': 'friendly greetings from python'},\n",
    "      'requestedAttributes': {'TOXICITY': {}}\n",
    "    }\n",
    "\n",
    "    response = service.comments().analyze(body=analyze_request).execute()\n",
    "#     import json\n",
    "#     print(json.dumps(response, indent=2))\n",
    "    toxicity_score = response['attributeScores']['TOXICITY']['summaryScore']['value']\n",
    "\n",
    "    print(\"P(Toxicity) = \" + str(toxicity_score))\n",
    "    toxicity_scores.append(toxicity_score)\n",
    "\n",
    "sample_comments['toxicity'] = toxicity_scores"
   ]
  },
  {
   "cell_type": "code",
   "execution_count": 23,
   "metadata": {},
   "outputs": [
    {
     "data": {
      "text/html": [
       "<div>\n",
       "<style scoped>\n",
       "    .dataframe tbody tr th:only-of-type {\n",
       "        vertical-align: middle;\n",
       "    }\n",
       "\n",
       "    .dataframe tbody tr th {\n",
       "        vertical-align: top;\n",
       "    }\n",
       "\n",
       "    .dataframe thead th {\n",
       "        text-align: right;\n",
       "    }\n",
       "</style>\n",
       "<table border=\"1\" class=\"dataframe\">\n",
       "  <thead>\n",
       "    <tr style=\"text-align: right;\">\n",
       "      <th></th>\n",
       "      <th>comments</th>\n",
       "      <th>toxicity</th>\n",
       "    </tr>\n",
       "  </thead>\n",
       "  <tbody>\n",
       "    <tr>\n",
       "      <th>0</th>\n",
       "      <td>Hello world! What is up?</td>\n",
       "      <td>0.024962</td>\n",
       "    </tr>\n",
       "    <tr>\n",
       "      <th>1</th>\n",
       "      <td>LOL, this is crazy. Are you stupid tho?</td>\n",
       "      <td>0.903930</td>\n",
       "    </tr>\n",
       "    <tr>\n",
       "      <th>2</th>\n",
       "      <td>This is disgusting!</td>\n",
       "      <td>0.531980</td>\n",
       "    </tr>\n",
       "  </tbody>\n",
       "</table>\n",
       "</div>"
      ],
      "text/plain": [
       "                                  comments  toxicity\n",
       "0                 Hello world! What is up?  0.024962\n",
       "1  LOL, this is crazy. Are you stupid tho?  0.903930\n",
       "2                     This is disgusting!   0.531980"
      ]
     },
     "execution_count": 23,
     "metadata": {},
     "output_type": "execute_result"
    }
   ],
   "source": [
    "sample_comments"
   ]
  },
  {
   "cell_type": "code",
   "execution_count": null,
   "metadata": {},
   "outputs": [],
   "source": []
  }
 ],
 "metadata": {
  "kernelspec": {
   "display_name": "Python 3",
   "language": "python",
   "name": "python3"
  },
  "language_info": {
   "codemirror_mode": {
    "name": "ipython",
    "version": 3
   },
   "file_extension": ".py",
   "mimetype": "text/x-python",
   "name": "python",
   "nbconvert_exporter": "python",
   "pygments_lexer": "ipython3",
   "version": "3.6.4"
  }
 },
 "nbformat": 4,
 "nbformat_minor": 2
}
